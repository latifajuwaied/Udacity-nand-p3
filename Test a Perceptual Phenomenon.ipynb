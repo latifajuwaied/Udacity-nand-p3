{
 "cells": [
  {
   "cell_type": "markdown",
   "metadata": {},
   "source": [
    "### Analyzing the Stroop Effect\n",
    "Perform the analysis in the space below. Remember to follow [the instructions](https://docs.google.com/document/d/1-OkpZLjG_kX9J6LIQ5IltsqMzVWjh36QpnP2RYpVdPU/pub?embedded=True) and review the [project rubric](https://review.udacity.com/#!/rubrics/71/view) before submitting. Once you've completed the analysis and write-up, download this file as a PDF or HTML file, upload that PDF/HTML into the workspace here (click on the orange Jupyter icon in the upper left then Upload), then use the Submit Project button at the bottom of this page. This will create a zip file containing both this .ipynb doc and the PDF/HTML doc that will be submitted for your project."
   ]
  },
  {
   "cell_type": "code",
   "execution_count": 1,
   "metadata": {},
   "outputs": [
    {
     "name": "stdout",
     "output_type": "stream",
     "text": [
      "Congruent size: 24, Incongruent size: 24\n"
     ]
    },
    {
     "data": {
      "text/html": [
       "<div>\n",
       "<style scoped>\n",
       "    .dataframe tbody tr th:only-of-type {\n",
       "        vertical-align: middle;\n",
       "    }\n",
       "\n",
       "    .dataframe tbody tr th {\n",
       "        vertical-align: top;\n",
       "    }\n",
       "\n",
       "    .dataframe thead th {\n",
       "        text-align: right;\n",
       "    }\n",
       "</style>\n",
       "<table border=\"1\" class=\"dataframe\">\n",
       "  <thead>\n",
       "    <tr style=\"text-align: right;\">\n",
       "      <th></th>\n",
       "      <th>Congruent</th>\n",
       "      <th>Incongruent</th>\n",
       "    </tr>\n",
       "  </thead>\n",
       "  <tbody>\n",
       "    <tr>\n",
       "      <th>0</th>\n",
       "      <td>12.079</td>\n",
       "      <td>19.278</td>\n",
       "    </tr>\n",
       "    <tr>\n",
       "      <th>1</th>\n",
       "      <td>16.791</td>\n",
       "      <td>18.741</td>\n",
       "    </tr>\n",
       "    <tr>\n",
       "      <th>2</th>\n",
       "      <td>9.564</td>\n",
       "      <td>21.214</td>\n",
       "    </tr>\n",
       "    <tr>\n",
       "      <th>3</th>\n",
       "      <td>8.630</td>\n",
       "      <td>15.687</td>\n",
       "    </tr>\n",
       "    <tr>\n",
       "      <th>4</th>\n",
       "      <td>14.669</td>\n",
       "      <td>22.803</td>\n",
       "    </tr>\n",
       "  </tbody>\n",
       "</table>\n",
       "</div>"
      ],
      "text/plain": [
       "   Congruent  Incongruent\n",
       "0     12.079       19.278\n",
       "1     16.791       18.741\n",
       "2      9.564       21.214\n",
       "3      8.630       15.687\n",
       "4     14.669       22.803"
      ]
     },
     "execution_count": 1,
     "metadata": {},
     "output_type": "execute_result"
    }
   ],
   "source": [
    "import numpy as np\n",
    "import pandas as pd\n",
    "import matplotlib.pyplot as plt\n",
    "import seaborn as sns\n",
    "from scipy import stats\n",
    "import csv\n",
    "\n",
    "# Reading CSV file using pandas\n",
    "df = pd.read_csv('stroopdata.csv')\n",
    "\n",
    "print(\"Congruent size: {}, Incongruent size: {}\".format( df['Congruent'].size, df['Incongruent'].size))\n",
    "df.head()"
   ]
  },
  {
   "cell_type": "markdown",
   "metadata": {},
   "source": [
    "(1) What is the independent variable? What is the dependent variable?"
   ]
  },
  {
   "cell_type": "markdown",
   "metadata": {},
   "source": [
    ">**Independent variable:** The congruency of the colour and text, Congruent\t& Incongruent. <br>\n",
    "**Dependent variable** Duration (time in seconds) to recognise the colours or the texts."
   ]
  },
  {
   "cell_type": "markdown",
   "metadata": {},
   "source": [
    "(2) What is an appropriate set of hypotheses for this task? Specify your null and alternative hypotheses, and clearly define any notation used. Justify your choices."
   ]
  },
  {
   "cell_type": "markdown",
   "metadata": {},
   "source": [
    ">We will use **Dependent t-test for paired samples**, it is used to compare the means of two related groups to determine whether there is a statistically significant difference between these means. The dependent t-test can look for \"differences\" between means when participants are measured on the same dependent variable (time) under two different conditions (Congruent & Incongruent). The major advantage of choosing dependent t-test is to eliminate the individual differences that occur between participants. We assume that the data inside each of the samples are normal, not just that the means of the samples are normal.\n",
    "\n",
    ">**Null-hypothesis:** $ H_0: µ_{Congruent} = µ_{Incongruent} $\n",
    "<br>There is no difference in time between Congruent & Incongruent, Word condition has no influence on the time. \n",
    "<br>**Alternative-hypothesis:** $ H_1: µ_{Congruent} \\neq µ_{Incongruent} $\n",
    "<br>There is a difference in time between Congruent & Incongruent, Incongruent takes more time than Congruent.\n",
    "\n",
    ">**Where,**\n",
    "<br>$µ_{Congruent}$ = Population mean for congruent task time.\n",
    "<br>$µ_{Incongruent}$ = Population mean for incongruent task time.\n",
    "<br>N = number of participants, 24"
   ]
  },
  {
   "cell_type": "markdown",
   "metadata": {},
   "source": [
    "(3) Report some descriptive statistics regarding this dataset. Include at least one measure of central tendency and at least one measure of variability. The name of the data file is 'stroopdata.csv'."
   ]
  },
  {
   "cell_type": "code",
   "execution_count": 2,
   "metadata": {},
   "outputs": [
    {
     "name": "stdout",
     "output_type": "stream",
     "text": [
      "\n",
      "Measures of central tendency:\n",
      "1. Mean: \n",
      "Congruent      14.051125\n",
      "Incongruent    22.015917\n",
      "dtype: float64\n",
      "\n",
      "2. Median: \n",
      "Congruent      14.3565\n",
      "Incongruent    21.0175\n",
      "dtype: float64\n",
      "\n",
      "3. Mode: \n",
      "    Congruent  Incongruent\n",
      "0       8.630       15.687\n",
      "1       8.987       17.394\n",
      "2       9.401       17.425\n",
      "3       9.564       17.510\n",
      "4      10.639       17.960\n",
      "5      11.344       18.644\n",
      "6      12.079       18.741\n",
      "7      12.130       19.278\n",
      "8      12.238       20.330\n",
      "9      12.369       20.429\n",
      "10     12.944       20.762\n",
      "11     14.233       20.878\n",
      "12     14.480       21.157\n",
      "13     14.669       21.214\n",
      "14     14.692       22.058\n",
      "15     15.073       22.158\n",
      "16     15.298       22.803\n",
      "17     16.004       23.894\n",
      "18     16.791       24.524\n",
      "19     16.929       24.572\n",
      "20     18.200       25.139\n",
      "21     18.495       26.282\n",
      "22     19.710       34.288\n",
      "23     22.328       35.255\n",
      "\n",
      "Measures of variability:\n",
      "1. Standard Deviation: \n",
      "Congruent      3.559358\n",
      "Incongruent    4.797057\n",
      "dtype: float64\n",
      "\n",
      "2. Variance: \n",
      "Congruent      12.669029\n",
      "Incongruent    23.011757\n",
      "dtype: float64\n"
     ]
    }
   ],
   "source": [
    "print(\"\\nMeasures of central tendency:\")\n",
    "\n",
    "print(\"1. Mean: \")\n",
    "print(df.mean(axis=0))\n",
    "\n",
    "print(\"\\n2. Median: \")\n",
    "print(df.median(axis=0))\n",
    "\n",
    "print(\"\\n3. Mode: \")\n",
    "print(df.mode())\n",
    "\n",
    "print(\"\\nMeasures of variability:\")\n",
    "print(\"1. Standard Deviation: \")\n",
    "print(df.std(axis=0))\n",
    "\n",
    "print(\"\\n2. Variance: \")\n",
    "print(df.var(axis=0))"
   ]
  },
  {
   "cell_type": "markdown",
   "metadata": {},
   "source": [
    ">From the results, we can see that Incongruent takes more time than Congruent depending on the measures that were provided above."
   ]
  },
  {
   "cell_type": "markdown",
   "metadata": {},
   "source": [
    "(4) Provide one or two visualizations that show the distribution of the sample data. Write one or two sentences noting what you observe about the plot or plots."
   ]
  },
  {
   "cell_type": "code",
   "execution_count": 3,
   "metadata": {},
   "outputs": [
    {
     "name": "stderr",
     "output_type": "stream",
     "text": [
      "C:\\Users\\Khalid\\Anaconda3\\lib\\site-packages\\scipy\\stats\\stats.py:1713: FutureWarning: Using a non-tuple sequence for multidimensional indexing is deprecated; use `arr[tuple(seq)]` instead of `arr[seq]`. In the future this will be interpreted as an array index, `arr[np.array(seq)]`, which will result either in an error or a different result.\n",
      "  return np.add.reduce(sorted[indexer] * weights, axis=axis) / sumval\n"
     ]
    },
    {
     "data": {
      "image/png": "[encoded data removed]",
      "text/plain": [
       "<Figure size 720x504 with 1 Axes>"
      ]
     },
     "metadata": {
      "needs_background": "light"
     },
     "output_type": "display_data"
    }
   ],
   "source": [
    "plt.figure(figsize=[10, 7])\n",
    "sns.distplot(df['Congruent'])\n",
    "sns.distplot(df['Incongruent'])\n",
    "plt.xlabel('Time in Seconds')\n",
    "plt.legend('CI', ncol=2, loc='upper right');\n",
    "plt.title('Time Taken to Complete Test'); "
   ]
  },
  {
   "cell_type": "markdown",
   "metadata": {},
   "source": [
    ">From the visualization, we can say that both distribution are slightly normal. For the Congruent, the most time spent is around 15 seconds. For the Incongruent, the most time spent is around 22 seconds. Therefore, we can say that Incongruent takes more time than Congruent."
   ]
  },
  {
   "cell_type": "markdown",
   "metadata": {},
   "source": [
    "(5)  Now, perform the statistical test and report your results. What is your confidence level or Type I error associated with your test? What is your conclusion regarding the hypotheses you set up? Did the results match up with your expectations? **Hint:**  Think about what is being measured on each individual, and what statistic best captures how an individual reacts in each environment."
   ]
  },
  {
   "cell_type": "markdown",
   "metadata": {},
   "source": [
    "**Step 1:** Initialize values:"
   ]
  },
  {
   "cell_type": "markdown",
   "metadata": {},
   "source": [
    ">$ H_0: µ_{Congruent} = µ_{Incongruent} $ <br>\n",
    "$ H_1: µ_{Congruent} \\neq µ_{Incongruent} $\n",
    "<br><br>\n",
    "N = number of participants = 24 <br>\n",
    "Degree of freedom = N - 1 = 24 - 1 = 23. <br>\n",
    "Alpha =  5% (0.05) the most common one. <br>\n",
    "T-Value (two-tailed) =  +/- 2.068658"
   ]
  },
  {
   "cell_type": "markdown",
   "metadata": {},
   "source": [
    "**Step 2:** Find T-Statistic value:"
   ]
  },
  {
   "cell_type": "code",
   "execution_count": 4,
   "metadata": {},
   "outputs": [
    {
     "name": "stdout",
     "output_type": "stream",
     "text": [
      "T-Statistic value = 8.0207\n",
      "P-Value = 0.0\n"
     ]
    }
   ],
   "source": [
    "alpha = 0.05\n",
    "tcrit = 2.068658\n",
    "tstas, pval = stats.ttest_rel(df['Incongruent'], df['Congruent'], axis=0)\n",
    "print(\"T-Statistic value = \"+ str(round(tstas,4)))\n",
    "print(\"P-Value = \"+ str(round(pval,4)))"
   ]
  },
  {
   "cell_type": "code",
   "execution_count": 5,
   "metadata": {},
   "outputs": [
    {
     "name": "stdout",
     "output_type": "stream",
     "text": [
      "P-Value < Alpha? True\n",
      "T-Value < T-Statistic? True\n"
     ]
    }
   ],
   "source": [
    "print(\"P-Value < Alpha? \" + str(pval<alpha))\n",
    "print(\"T-Value < T-Statistic? \" + str(tcrit<tstas))"
   ]
  },
  {
   "cell_type": "markdown",
   "metadata": {},
   "source": [
    ">**Reject the null hypothesis** and accept that the alternative is true. There is a significant difference in time between Congruent & Incongruent, Incongruent takes more time than Congruent."
   ]
  },
  {
   "cell_type": "markdown",
   "metadata": {},
   "source": [
    "### Resources"
   ]
  },
  {
   "cell_type": "markdown",
   "metadata": {},
   "source": [
    "1. Udacity videos\n",
    "2. Stack Overflow\n",
    "3. http://pandas.pydata.org/pandas-docs/stable/api.html\n",
    "4. https://www.statisticshowto.datasciencecentral.com/t-critical-value/\n",
    "5. https://www.americannursetoday.com/the-p-value-what-it-really-means/\n",
    "6. https://statistics.laerd.com/statistical-guides/dependent-t-test-statistical-guide.php\n",
    "7. http://www2.psychology.uiowa.edu/faculty/mordkoff/GradStats/part%201/I.07%20normal.pdf\n",
    "8. https://goodcalculators.com/student-t-value-calculator/"
   ]
  }
 ],
 "metadata": {
  "kernelspec": {
   "display_name": "Python [default]",
   "language": "python",
   "name": "python3"
  },
  "language_info": {
   "codemirror_mode": {
    "name": "ipython",
    "version": 3
   },
   "file_extension": ".py",
   "mimetype": "text/x-python",
   "name": "python",
   "nbconvert_exporter": "python",
   "pygments_lexer": "ipython3",
   "version": "3.7.0"
  }
 },
 "nbformat": 4,
 "nbformat_minor": 2
}
